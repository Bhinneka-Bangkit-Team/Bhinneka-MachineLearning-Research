{
 "cells": [
  {
   "cell_type": "markdown",
   "id": "coated-tiger",
   "metadata": {},
   "source": [
    "# Import libraries"
   ]
  },
  {
   "cell_type": "code",
   "execution_count": 1,
   "id": "distinct-front",
   "metadata": {},
   "outputs": [],
   "source": [
    "import pandas as pd\n",
    "import tensorflow as tf\n",
    "import matplotlib.pyplot as plt\n",
    "import numpy as np"
   ]
  },
  {
   "cell_type": "markdown",
   "id": "confused-timber",
   "metadata": {},
   "source": [
    "# Read csv dataset that has been created, and shuffle them"
   ]
  },
  {
   "cell_type": "code",
   "execution_count": 5,
   "id": "separated-system",
   "metadata": {},
   "outputs": [],
   "source": [
    "df = pd.read_csv('D:\\\\Libraries\\\\Project\\\\Python\\\\bangkit\\\\landmark_dataset.csv')\n",
    "df = df.sample(frac=1)"
   ]
  },
  {
   "cell_type": "markdown",
   "id": "advisory-encoding",
   "metadata": {},
   "source": [
    "# Exploratory data analysis"
   ]
  },
  {
   "cell_type": "code",
   "execution_count": 6,
   "id": "welcome-episode",
   "metadata": {},
   "outputs": [
    {
     "data": {
      "text/plain": [
       "[]"
      ]
     },
     "execution_count": 6,
     "metadata": {},
     "output_type": "execute_result"
    },
    {
     "data": {
      "image/png": "[encoded data removed]",
      "text/plain": [
       "<Figure size 432x288 with 1 Axes>"
      ]
     },
     "metadata": {
      "needs_background": "light"
     },
     "output_type": "display_data"
    }
   ],
   "source": [
    "df['class'].value_counts().plot.bar()\n",
    "plt.plot()"
   ]
  },
  {
   "cell_type": "code",
   "execution_count": 7,
   "id": "official-crisis",
   "metadata": {},
   "outputs": [],
   "source": [
    "df = df.loc[:, ~df.columns.str.contains('^Unnamed')]"
   ]
  },
  {
   "cell_type": "markdown",
   "id": "ready-congo",
   "metadata": {},
   "source": [
    "# Remove some class for research"
   ]
  },
  {
   "cell_type": "code",
   "execution_count": 8,
   "id": "instructional-request",
   "metadata": {},
   "outputs": [],
   "source": [
    "#df = df[~df['class'].isin(['f'])]"
   ]
  },
  {
   "cell_type": "markdown",
   "id": "listed-thanks",
   "metadata": {},
   "source": [
    "# Copy to variable\n",
    "Because the variable would refer to the original dataframe. We need to make sure that the original dataframe is intact"
   ]
  },
  {
   "cell_type": "code",
   "execution_count": 9,
   "id": "broke-apparatus",
   "metadata": {},
   "outputs": [],
   "source": [
    "x = df.loc[:, df.columns != 'class'].copy()\n",
    "y = df['class'].copy()"
   ]
  },
  {
   "cell_type": "code",
   "execution_count": 10,
   "id": "federal-vatican",
   "metadata": {},
   "outputs": [
    {
     "data": {
      "text/html": [
       "<div>\n",
       "<style scoped>\n",
       "    .dataframe tbody tr th:only-of-type {\n",
       "        vertical-align: middle;\n",
       "    }\n",
       "\n",
       "    .dataframe tbody tr th {\n",
       "        vertical-align: top;\n",
       "    }\n",
       "\n",
       "    .dataframe thead th {\n",
       "        text-align: right;\n",
       "    }\n",
       "</style>\n",
       "<table border=\"1\" class=\"dataframe\">\n",
       "  <thead>\n",
       "    <tr style=\"text-align: right;\">\n",
       "      <th></th>\n",
       "      <th>x1</th>\n",
       "      <th>y1</th>\n",
       "      <th>x2</th>\n",
       "      <th>y2</th>\n",
       "      <th>x3</th>\n",
       "      <th>y3</th>\n",
       "      <th>x4</th>\n",
       "      <th>y4</th>\n",
       "      <th>x5</th>\n",
       "      <th>y5</th>\n",
       "      <th>...</th>\n",
       "      <th>x17</th>\n",
       "      <th>y17</th>\n",
       "      <th>x18</th>\n",
       "      <th>y18</th>\n",
       "      <th>x19</th>\n",
       "      <th>y19</th>\n",
       "      <th>x20</th>\n",
       "      <th>y20</th>\n",
       "      <th>x21</th>\n",
       "      <th>y21</th>\n",
       "    </tr>\n",
       "  </thead>\n",
       "  <tbody>\n",
       "    <tr>\n",
       "      <th>2787</th>\n",
       "      <td>-0.043678</td>\n",
       "      <td>0.144298</td>\n",
       "      <td>-0.001367</td>\n",
       "      <td>0.118090</td>\n",
       "      <td>0.025318</td>\n",
       "      <td>0.085541</td>\n",
       "      <td>0.045596</td>\n",
       "      <td>0.066051</td>\n",
       "      <td>0.067160</td>\n",
       "      <td>0.047238</td>\n",
       "      <td>...</td>\n",
       "      <td>-0.017887</td>\n",
       "      <td>-0.144298</td>\n",
       "      <td>-0.067944</td>\n",
       "      <td>0.001256</td>\n",
       "      <td>-0.079499</td>\n",
       "      <td>-0.052633</td>\n",
       "      <td>-0.078473</td>\n",
       "      <td>-0.092986</td>\n",
       "      <td>-0.072233</td>\n",
       "      <td>-0.127822</td>\n",
       "    </tr>\n",
       "    <tr>\n",
       "      <th>11587</th>\n",
       "      <td>0.058144</td>\n",
       "      <td>0.271704</td>\n",
       "      <td>0.003272</td>\n",
       "      <td>0.235769</td>\n",
       "      <td>-0.022701</td>\n",
       "      <td>0.156086</td>\n",
       "      <td>0.027381</td>\n",
       "      <td>0.102135</td>\n",
       "      <td>0.080952</td>\n",
       "      <td>0.060534</td>\n",
       "      <td>...</td>\n",
       "      <td>0.118567</td>\n",
       "      <td>-0.222641</td>\n",
       "      <td>0.115296</td>\n",
       "      <td>0.071051</td>\n",
       "      <td>0.081863</td>\n",
       "      <td>0.060264</td>\n",
       "      <td>0.052515</td>\n",
       "      <td>0.106296</td>\n",
       "      <td>0.036721</td>\n",
       "      <td>0.152769</td>\n",
       "    </tr>\n",
       "    <tr>\n",
       "      <th>11129</th>\n",
       "      <td>-0.026221</td>\n",
       "      <td>0.170065</td>\n",
       "      <td>0.004340</td>\n",
       "      <td>0.151180</td>\n",
       "      <td>0.012824</td>\n",
       "      <td>0.097461</td>\n",
       "      <td>-0.027577</td>\n",
       "      <td>0.059093</td>\n",
       "      <td>-0.062331</td>\n",
       "      <td>0.028613</td>\n",
       "      <td>...</td>\n",
       "      <td>-0.030867</td>\n",
       "      <td>0.081714</td>\n",
       "      <td>-0.064269</td>\n",
       "      <td>0.054473</td>\n",
       "      <td>-0.076406</td>\n",
       "      <td>0.051963</td>\n",
       "      <td>-0.062771</td>\n",
       "      <td>0.081565</td>\n",
       "      <td>-0.048935</td>\n",
       "      <td>0.097367</td>\n",
       "    </tr>\n",
       "    <tr>\n",
       "      <th>2955</th>\n",
       "      <td>0.109868</td>\n",
       "      <td>0.192643</td>\n",
       "      <td>0.050302</td>\n",
       "      <td>0.195982</td>\n",
       "      <td>-0.003602</td>\n",
       "      <td>0.180525</td>\n",
       "      <td>-0.052067</td>\n",
       "      <td>0.183374</td>\n",
       "      <td>-0.071848</td>\n",
       "      <td>0.165146</td>\n",
       "      <td>...</td>\n",
       "      <td>-0.011527</td>\n",
       "      <td>-0.195982</td>\n",
       "      <td>0.103197</td>\n",
       "      <td>0.035097</td>\n",
       "      <td>0.112950</td>\n",
       "      <td>-0.037540</td>\n",
       "      <td>0.118199</td>\n",
       "      <td>-0.094426</td>\n",
       "      <td>0.120244</td>\n",
       "      <td>-0.149020</td>\n",
       "    </tr>\n",
       "    <tr>\n",
       "      <th>6457</th>\n",
       "      <td>0.003025</td>\n",
       "      <td>0.158974</td>\n",
       "      <td>0.058134</td>\n",
       "      <td>0.118183</td>\n",
       "      <td>0.066401</td>\n",
       "      <td>0.011417</td>\n",
       "      <td>0.021600</td>\n",
       "      <td>-0.053538</td>\n",
       "      <td>-0.020266</td>\n",
       "      <td>-0.083357</td>\n",
       "      <td>...</td>\n",
       "      <td>0.004100</td>\n",
       "      <td>0.016583</td>\n",
       "      <td>-0.067907</td>\n",
       "      <td>-0.013207</td>\n",
       "      <td>-0.052015</td>\n",
       "      <td>-0.034669</td>\n",
       "      <td>-0.027278</td>\n",
       "      <td>0.027373</td>\n",
       "      <td>-0.015525</td>\n",
       "      <td>0.065080</td>\n",
       "    </tr>\n",
       "    <tr>\n",
       "      <th>...</th>\n",
       "      <td>...</td>\n",
       "      <td>...</td>\n",
       "      <td>...</td>\n",
       "      <td>...</td>\n",
       "      <td>...</td>\n",
       "      <td>...</td>\n",
       "      <td>...</td>\n",
       "      <td>...</td>\n",
       "      <td>...</td>\n",
       "      <td>...</td>\n",
       "      <td>...</td>\n",
       "      <td>...</td>\n",
       "      <td>...</td>\n",
       "      <td>...</td>\n",
       "      <td>...</td>\n",
       "      <td>...</td>\n",
       "      <td>...</td>\n",
       "      <td>...</td>\n",
       "      <td>...</td>\n",
       "      <td>...</td>\n",
       "      <td>...</td>\n",
       "    </tr>\n",
       "    <tr>\n",
       "      <th>2303</th>\n",
       "      <td>-0.034460</td>\n",
       "      <td>0.149961</td>\n",
       "      <td>0.020862</td>\n",
       "      <td>0.132600</td>\n",
       "      <td>0.073754</td>\n",
       "      <td>0.081525</td>\n",
       "      <td>0.093794</td>\n",
       "      <td>0.035602</td>\n",
       "      <td>0.065331</td>\n",
       "      <td>0.025165</td>\n",
       "      <td>...</td>\n",
       "      <td>-0.045106</td>\n",
       "      <td>-0.101498</td>\n",
       "      <td>-0.085299</td>\n",
       "      <td>-0.017150</td>\n",
       "      <td>-0.093794</td>\n",
       "      <td>-0.088834</td>\n",
       "      <td>-0.085004</td>\n",
       "      <td>-0.103615</td>\n",
       "      <td>-0.072546</td>\n",
       "      <td>-0.083003</td>\n",
       "    </tr>\n",
       "    <tr>\n",
       "      <th>12535</th>\n",
       "      <td>0.036781</td>\n",
       "      <td>0.182181</td>\n",
       "      <td>-0.036370</td>\n",
       "      <td>0.136243</td>\n",
       "      <td>-0.085414</td>\n",
       "      <td>0.064238</td>\n",
       "      <td>-0.111620</td>\n",
       "      <td>-0.002422</td>\n",
       "      <td>-0.132566</td>\n",
       "      <td>-0.051478</td>\n",
       "      <td>...</td>\n",
       "      <td>0.036750</td>\n",
       "      <td>0.069222</td>\n",
       "      <td>0.096775</td>\n",
       "      <td>0.010537</td>\n",
       "      <td>0.117327</td>\n",
       "      <td>-0.077013</td>\n",
       "      <td>0.125644</td>\n",
       "      <td>-0.130845</td>\n",
       "      <td>0.132566</td>\n",
       "      <td>-0.182181</td>\n",
       "    </tr>\n",
       "    <tr>\n",
       "      <th>8695</th>\n",
       "      <td>0.006074</td>\n",
       "      <td>0.189145</td>\n",
       "      <td>-0.029989</td>\n",
       "      <td>0.165556</td>\n",
       "      <td>-0.051109</td>\n",
       "      <td>0.101760</td>\n",
       "      <td>-0.021196</td>\n",
       "      <td>0.061260</td>\n",
       "      <td>0.014569</td>\n",
       "      <td>0.044120</td>\n",
       "      <td>...</td>\n",
       "      <td>-0.003548</td>\n",
       "      <td>0.073271</td>\n",
       "      <td>0.051109</td>\n",
       "      <td>0.053318</td>\n",
       "      <td>0.034980</td>\n",
       "      <td>0.032301</td>\n",
       "      <td>0.016328</td>\n",
       "      <td>0.069721</td>\n",
       "      <td>0.008688</td>\n",
       "      <td>0.098282</td>\n",
       "    </tr>\n",
       "    <tr>\n",
       "      <th>1178</th>\n",
       "      <td>0.005577</td>\n",
       "      <td>0.156307</td>\n",
       "      <td>-0.026087</td>\n",
       "      <td>0.137702</td>\n",
       "      <td>-0.044461</td>\n",
       "      <td>0.101220</td>\n",
       "      <td>-0.032928</td>\n",
       "      <td>0.069205</td>\n",
       "      <td>-0.010151</td>\n",
       "      <td>0.051110</td>\n",
       "      <td>...</td>\n",
       "      <td>0.009638</td>\n",
       "      <td>0.054616</td>\n",
       "      <td>0.035243</td>\n",
       "      <td>0.026143</td>\n",
       "      <td>0.044461</td>\n",
       "      <td>-0.008771</td>\n",
       "      <td>0.040231</td>\n",
       "      <td>0.017964</td>\n",
       "      <td>0.031624</td>\n",
       "      <td>0.045106</td>\n",
       "    </tr>\n",
       "    <tr>\n",
       "      <th>3724</th>\n",
       "      <td>0.099330</td>\n",
       "      <td>0.052320</td>\n",
       "      <td>0.070901</td>\n",
       "      <td>-0.007053</td>\n",
       "      <td>0.033259</td>\n",
       "      <td>-0.035868</td>\n",
       "      <td>-0.000511</td>\n",
       "      <td>-0.035316</td>\n",
       "      <td>-0.023747</td>\n",
       "      <td>-0.024192</td>\n",
       "      <td>...</td>\n",
       "      <td>-0.001493</td>\n",
       "      <td>0.041993</td>\n",
       "      <td>0.041235</td>\n",
       "      <td>0.059598</td>\n",
       "      <td>-0.017817</td>\n",
       "      <td>0.064360</td>\n",
       "      <td>-0.007450</td>\n",
       "      <td>0.064802</td>\n",
       "      <td>0.009451</td>\n",
       "      <td>0.061209</td>\n",
       "    </tr>\n",
       "  </tbody>\n",
       "</table>\n",
       "<p>12923 rows × 42 columns</p>\n",
       "</div>"
      ],
      "text/plain": [
       "             x1        y1        x2        y2        x3        y3        x4  \\\n",
       "2787  -0.043678  0.144298 -0.001367  0.118090  0.025318  0.085541  0.045596   \n",
       "11587  0.058144  0.271704  0.003272  0.235769 -0.022701  0.156086  0.027381   \n",
       "11129 -0.026221  0.170065  0.004340  0.151180  0.012824  0.097461 -0.027577   \n",
       "2955   0.109868  0.192643  0.050302  0.195982 -0.003602  0.180525 -0.052067   \n",
       "6457   0.003025  0.158974  0.058134  0.118183  0.066401  0.011417  0.021600   \n",
       "...         ...       ...       ...       ...       ...       ...       ...   \n",
       "2303  -0.034460  0.149961  0.020862  0.132600  0.073754  0.081525  0.093794   \n",
       "12535  0.036781  0.182181 -0.036370  0.136243 -0.085414  0.064238 -0.111620   \n",
       "8695   0.006074  0.189145 -0.029989  0.165556 -0.051109  0.101760 -0.021196   \n",
       "1178   0.005577  0.156307 -0.026087  0.137702 -0.044461  0.101220 -0.032928   \n",
       "3724   0.099330  0.052320  0.070901 -0.007053  0.033259 -0.035868 -0.000511   \n",
       "\n",
       "             y4        x5        y5  ...       x17       y17       x18  \\\n",
       "2787   0.066051  0.067160  0.047238  ... -0.017887 -0.144298 -0.067944   \n",
       "11587  0.102135  0.080952  0.060534  ...  0.118567 -0.222641  0.115296   \n",
       "11129  0.059093 -0.062331  0.028613  ... -0.030867  0.081714 -0.064269   \n",
       "2955   0.183374 -0.071848  0.165146  ... -0.011527 -0.195982  0.103197   \n",
       "6457  -0.053538 -0.020266 -0.083357  ...  0.004100  0.016583 -0.067907   \n",
       "...         ...       ...       ...  ...       ...       ...       ...   \n",
       "2303   0.035602  0.065331  0.025165  ... -0.045106 -0.101498 -0.085299   \n",
       "12535 -0.002422 -0.132566 -0.051478  ...  0.036750  0.069222  0.096775   \n",
       "8695   0.061260  0.014569  0.044120  ... -0.003548  0.073271  0.051109   \n",
       "1178   0.069205 -0.010151  0.051110  ...  0.009638  0.054616  0.035243   \n",
       "3724  -0.035316 -0.023747 -0.024192  ... -0.001493  0.041993  0.041235   \n",
       "\n",
       "            y18       x19       y19       x20       y20       x21       y21  \n",
       "2787   0.001256 -0.079499 -0.052633 -0.078473 -0.092986 -0.072233 -0.127822  \n",
       "11587  0.071051  0.081863  0.060264  0.052515  0.106296  0.036721  0.152769  \n",
       "11129  0.054473 -0.076406  0.051963 -0.062771  0.081565 -0.048935  0.097367  \n",
       "2955   0.035097  0.112950 -0.037540  0.118199 -0.094426  0.120244 -0.149020  \n",
       "6457  -0.013207 -0.052015 -0.034669 -0.027278  0.027373 -0.015525  0.065080  \n",
       "...         ...       ...       ...       ...       ...       ...       ...  \n",
       "2303  -0.017150 -0.093794 -0.088834 -0.085004 -0.103615 -0.072546 -0.083003  \n",
       "12535  0.010537  0.117327 -0.077013  0.125644 -0.130845  0.132566 -0.182181  \n",
       "8695   0.053318  0.034980  0.032301  0.016328  0.069721  0.008688  0.098282  \n",
       "1178   0.026143  0.044461 -0.008771  0.040231  0.017964  0.031624  0.045106  \n",
       "3724   0.059598 -0.017817  0.064360 -0.007450  0.064802  0.009451  0.061209  \n",
       "\n",
       "[12923 rows x 42 columns]"
      ]
     },
     "execution_count": 10,
     "metadata": {},
     "output_type": "execute_result"
    }
   ],
   "source": [
    "x"
   ]
  },
  {
   "cell_type": "code",
   "execution_count": 11,
   "id": "spanish-humidity",
   "metadata": {},
   "outputs": [
    {
     "data": {
      "text/plain": [
       "2787     f\n",
       "11587    w\n",
       "11129    v\n",
       "2955     f\n",
       "6457     m\n",
       "        ..\n",
       "2303     e\n",
       "12535    y\n",
       "8695     r\n",
       "1178     d\n",
       "3724     h\n",
       "Name: class, Length: 12923, dtype: object"
      ]
     },
     "execution_count": 11,
     "metadata": {},
     "output_type": "execute_result"
    }
   ],
   "source": [
    "y"
   ]
  },
  {
   "cell_type": "markdown",
   "id": "driving-scroll",
   "metadata": {},
   "source": [
    "# Read class lists"
   ]
  },
  {
   "cell_type": "code",
   "execution_count": 13,
   "id": "boolean-record",
   "metadata": {},
   "outputs": [
    {
     "name": "stdout",
     "output_type": "stream",
     "text": [
      "pe- ter- ber- me- di- se- ke- -an -nya -kan -i a b c d e f g h i j k l m n o p q r s t u v w x y z 0 1 2 3 4 5 6 7 8 9 saya Kamu Dia Selamat pagi sore malam Hai Terima kasih Makan Minum Air Sakit Benar Salah Pergi Tidur Bangun Ajar (buat belajar) Baca Jalan Tulis Lihat Doa Buku Main Beli Baju Hidup Suka Telepon Kenal Ayah Ibu Kakak Adik Saudara Jangan Susu Tinggi Pendek Saat Ingin maaf Asal Untuk Kita Kami dan atau Mereka umur hobi Jam Tanggal Tahun kerja\n"
     ]
    }
   ],
   "source": [
    "classlist = []\n",
    "filename = 'D:\\\\Libraries\\\\Project\\\\Python\\\\bangkit\\\\classlist.txt'\n",
    "with open(filename) as fp:\n",
    "    line = fp.readline()\n",
    "    cnt = 1\n",
    "    while line:\n",
    "        classlist.append(line.strip())\n",
    "        line = fp.readline()\n",
    "        cnt += 1\n",
    "print(*classlist)"
   ]
  },
  {
   "cell_type": "markdown",
   "id": "functioning-eleven",
   "metadata": {},
   "source": [
    "# Label encoding and decoding helper"
   ]
  },
  {
   "cell_type": "code",
   "execution_count": 14,
   "id": "regulated-stability",
   "metadata": {},
   "outputs": [],
   "source": [
    "def encode_label(data_array):\n",
    "    for index, data in data_array.items():\n",
    "        data_array[index] = classlist.index(data)\n",
    "    return np.array(data_array)\n",
    "\n",
    "def decode_label(data_array):\n",
    "    for index, data in enumerate(data_array):\n",
    "        data_array[index] = classlist[data]\n",
    "    return np.array(data_array)"
   ]
  },
  {
   "cell_type": "code",
   "execution_count": 15,
   "id": "collective-macedonia",
   "metadata": {},
   "outputs": [],
   "source": [
    "y = encode_label(y)"
   ]
  },
  {
   "cell_type": "code",
   "execution_count": 17,
   "id": "asian-paraguay",
   "metadata": {},
   "outputs": [
    {
     "data": {
      "text/plain": [
       "16"
      ]
     },
     "execution_count": 17,
     "metadata": {},
     "output_type": "execute_result"
    }
   ],
   "source": [
    "y[0]"
   ]
  },
  {
   "cell_type": "markdown",
   "id": "muslim-participation",
   "metadata": {},
   "source": [
    "# One hot encoding for labels"
   ]
  },
  {
   "cell_type": "code",
   "execution_count": 18,
   "id": "outstanding-found",
   "metadata": {},
   "outputs": [],
   "source": [
    "y = tf.keras.utils.to_categorical(y, dtype='float32')"
   ]
  },
  {
   "cell_type": "code",
   "execution_count": 19,
   "id": "statistical-draft",
   "metadata": {},
   "outputs": [
    {
     "data": {
      "text/plain": [
       "array([0., 0., 0., 0., 0., 0., 0., 0., 0., 0., 0., 0., 0., 0., 0., 0., 1.,\n",
       "       0., 0., 0., 0., 0., 0., 0., 0., 0., 0., 0., 0., 0., 0., 0., 0., 0.,\n",
       "       0., 0.], dtype=float32)"
      ]
     },
     "execution_count": 19,
     "metadata": {},
     "output_type": "execute_result"
    }
   ],
   "source": [
    "y[0]"
   ]
  },
  {
   "cell_type": "markdown",
   "id": "spatial-habitat",
   "metadata": {},
   "source": [
    "# Train test split helper"
   ]
  },
  {
   "cell_type": "code",
   "execution_count": 20,
   "id": "honest-spanking",
   "metadata": {},
   "outputs": [],
   "source": [
    "def train_test_split(x,y,train_percent):\n",
    "    x = np.array(x).astype(np.float32)\n",
    "    y = np.array(y).astype(np.float32)\n",
    "    length = len(y)\n",
    "    split = int(length * (train_percent/100))\n",
    "    return x[0:split],y[0:split],x[split:],y[split:]"
   ]
  },
  {
   "cell_type": "code",
   "execution_count": 62,
   "id": "purple-dressing",
   "metadata": {},
   "outputs": [],
   "source": [
    "x_train,y_train,x_test,y_test = train_test_split(x,y,80)"
   ]
  },
  {
   "cell_type": "markdown",
   "id": "occupied-handle",
   "metadata": {},
   "source": [
    "# Get number of classes based on the encoded class"
   ]
  },
  {
   "cell_type": "code",
   "execution_count": 63,
   "id": "quiet-circular",
   "metadata": {},
   "outputs": [],
   "source": [
    "# num_class = len(classlist)\n",
    "num_class = len(y_train[0])"
   ]
  },
  {
   "cell_type": "code",
   "execution_count": 64,
   "id": "bearing-peripheral",
   "metadata": {},
   "outputs": [
    {
     "data": {
      "text/plain": [
       "[]"
      ]
     },
     "execution_count": 64,
     "metadata": {},
     "output_type": "execute_result"
    },
    {
     "data": {
      "image/png": "[encoded data removed]",
      "text/plain": [
       "<Figure size 432x288 with 1 Axes>"
      ]
     },
     "metadata": {
      "needs_background": "light"
     },
     "output_type": "display_data"
    }
   ],
   "source": [
    "df['class'].value_counts().plot.bar()\n",
    "plt.plot()"
   ]
  },
  {
   "cell_type": "markdown",
   "id": "impressed-welcome",
   "metadata": {},
   "source": [
    "# Build sequential model"
   ]
  },
  {
   "cell_type": "code",
   "execution_count": 21,
   "id": "realistic-comedy",
   "metadata": {},
   "outputs": [
    {
     "ename": "NameError",
     "evalue": "name 'num_class' is not defined",
     "output_type": "error",
     "traceback": [
      "\u001b[1;31m---------------------------------------------------------------------------\u001b[0m",
      "\u001b[1;31mNameError\u001b[0m                                 Traceback (most recent call last)",
      "\u001b[1;32m<ipython-input-21-b53986ecb00c>\u001b[0m in \u001b[0;36m<module>\u001b[1;34m\u001b[0m\n\u001b[0;32m      4\u001b[0m     \u001b[0mtf\u001b[0m\u001b[1;33m.\u001b[0m\u001b[0mkeras\u001b[0m\u001b[1;33m.\u001b[0m\u001b[0mlayers\u001b[0m\u001b[1;33m.\u001b[0m\u001b[0mFlatten\u001b[0m\u001b[1;33m(\u001b[0m\u001b[0minput_shape\u001b[0m\u001b[1;33m=\u001b[0m\u001b[1;33m(\u001b[0m\u001b[1;36m42\u001b[0m\u001b[1;33m,\u001b[0m\u001b[1;36m1\u001b[0m\u001b[1;33m)\u001b[0m\u001b[1;33m)\u001b[0m\u001b[1;33m,\u001b[0m\u001b[1;33m\u001b[0m\u001b[1;33m\u001b[0m\u001b[0m\n\u001b[0;32m      5\u001b[0m     \u001b[0mtf\u001b[0m\u001b[1;33m.\u001b[0m\u001b[0mkeras\u001b[0m\u001b[1;33m.\u001b[0m\u001b[0mlayers\u001b[0m\u001b[1;33m.\u001b[0m\u001b[0mDense\u001b[0m\u001b[1;33m(\u001b[0m\u001b[1;36m200\u001b[0m\u001b[1;33m,\u001b[0m \u001b[0mactivation\u001b[0m\u001b[1;33m=\u001b[0m\u001b[1;34m'relu'\u001b[0m\u001b[1;33m)\u001b[0m\u001b[1;33m,\u001b[0m\u001b[1;33m\u001b[0m\u001b[1;33m\u001b[0m\u001b[0m\n\u001b[1;32m----> 6\u001b[1;33m     \u001b[0mtf\u001b[0m\u001b[1;33m.\u001b[0m\u001b[0mkeras\u001b[0m\u001b[1;33m.\u001b[0m\u001b[0mlayers\u001b[0m\u001b[1;33m.\u001b[0m\u001b[0mDense\u001b[0m\u001b[1;33m(\u001b[0m\u001b[0mnum_class\u001b[0m\u001b[1;33m)\u001b[0m\u001b[1;33m\u001b[0m\u001b[1;33m\u001b[0m\u001b[0m\n\u001b[0m\u001b[0;32m      7\u001b[0m ])\n",
      "\u001b[1;31mNameError\u001b[0m: name 'num_class' is not defined"
     ]
    }
   ],
   "source": [
    "tf.keras.backend.clear_session()\n",
    "# 42 = 21 landmarks * 2 (x and y)\n",
    "model = tf.keras.models.Sequential([\n",
    "    tf.keras.layers.Flatten(input_shape=(42,1)), \n",
    "    tf.keras.layers.Dense(200, activation='relu'),\n",
    "    tf.keras.layers.Dense(num_class)\n",
    "])"
   ]
  },
  {
   "cell_type": "markdown",
   "id": "warming-shopping",
   "metadata": {},
   "source": [
    "# Compile model"
   ]
  },
  {
   "cell_type": "code",
   "execution_count": 66,
   "id": "balanced-shadow",
   "metadata": {},
   "outputs": [],
   "source": [
    "model.compile(loss=tf.keras.losses.CategoricalCrossentropy(from_logits=True),\n",
    "                optimizer='adam',\n",
    "                metrics=['acc'])"
   ]
  },
  {
   "cell_type": "markdown",
   "id": "available-surgeon",
   "metadata": {},
   "source": [
    "# Callback to save best model according to best val_acc"
   ]
  },
  {
   "cell_type": "code",
   "execution_count": 67,
   "id": "considered-alcohol",
   "metadata": {},
   "outputs": [],
   "source": [
    "checkpoint_filepath = \"../working/best_run2_epoch{epoch}.h5\"\n",
    "model_checkpoint_callback = tf.keras.callbacks.ModelCheckpoint(\n",
    "    filepath=checkpoint_filepath,\n",
    "    save_weights_only=False,\n",
    "    monitor='val_acc',\n",
    "    mode='max',\n",
    "    save_best_only=True)"
   ]
  },
  {
   "cell_type": "code",
   "execution_count": 68,
   "id": "subjective-woman",
   "metadata": {},
   "outputs": [],
   "source": [
    "num_epoch = 100\n",
    "batch_size = 256\n",
    "verbose = 1"
   ]
  },
  {
   "cell_type": "markdown",
   "id": "absolute-antenna",
   "metadata": {},
   "source": [
    "# Evaluate"
   ]
  },
  {
   "cell_type": "code",
   "execution_count": 69,
   "id": "typical-queue",
   "metadata": {},
   "outputs": [
    {
     "name": "stdout",
     "output_type": "stream",
     "text": [
      "Epoch 1/100\n",
      "41/41 [==============================] - 0s 9ms/step - loss: 3.4082 - acc: 0.2512 - val_loss: 3.1611 - val_acc: 0.3513\n",
      "Epoch 2/100\n",
      "41/41 [==============================] - 0s 2ms/step - loss: 2.8175 - acc: 0.4364 - val_loss: 2.4594 - val_acc: 0.5319\n",
      "Epoch 3/100\n",
      "41/41 [==============================] - 0s 2ms/step - loss: 2.1400 - acc: 0.5919 - val_loss: 1.8650 - val_acc: 0.7211\n",
      "Epoch 4/100\n",
      "41/41 [==============================] - 0s 2ms/step - loss: 1.6348 - acc: 0.7626 - val_loss: 1.4545 - val_acc: 0.8027\n",
      "Epoch 5/100\n",
      "41/41 [==============================] - 0s 2ms/step - loss: 1.2887 - acc: 0.8074 - val_loss: 1.1731 - val_acc: 0.8720\n",
      "Epoch 6/100\n",
      "41/41 [==============================] - 0s 2ms/step - loss: 1.0473 - acc: 0.8716 - val_loss: 0.9702 - val_acc: 0.8809\n",
      "Epoch 7/100\n",
      "41/41 [==============================] - 0s 2ms/step - loss: 0.8740 - acc: 0.8882 - val_loss: 0.8265 - val_acc: 0.8990\n",
      "Epoch 8/100\n",
      "41/41 [==============================] - 0s 3ms/step - loss: 0.7450 - acc: 0.9155 - val_loss: 0.7125 - val_acc: 0.9180\n",
      "Epoch 9/100\n",
      "41/41 [==============================] - 0s 2ms/step - loss: 0.6452 - acc: 0.9246 - val_loss: 0.6255 - val_acc: 0.9439\n",
      "Epoch 10/100\n",
      "41/41 [==============================] - 0s 2ms/step - loss: 0.5654 - acc: 0.9381 - val_loss: 0.5532 - val_acc: 0.9462\n",
      "Epoch 11/100\n",
      "41/41 [==============================] - 0s 2ms/step - loss: 0.5006 - acc: 0.9420 - val_loss: 0.4950 - val_acc: 0.9544\n",
      "Epoch 12/100\n",
      "41/41 [==============================] - 0s 2ms/step - loss: 0.4467 - acc: 0.9540 - val_loss: 0.4441 - val_acc: 0.9594\n",
      "Epoch 13/100\n",
      "41/41 [==============================] - 0s 2ms/step - loss: 0.4015 - acc: 0.9578 - val_loss: 0.4033 - val_acc: 0.9648\n",
      "Epoch 14/100\n",
      "41/41 [==============================] - 0s 2ms/step - loss: 0.3629 - acc: 0.9633 - val_loss: 0.3663 - val_acc: 0.9667\n",
      "Epoch 15/100\n",
      "41/41 [==============================] - 0s 2ms/step - loss: 0.3296 - acc: 0.9653 - val_loss: 0.3361 - val_acc: 0.9687\n",
      "Epoch 16/100\n",
      "41/41 [==============================] - 0s 2ms/step - loss: 0.3012 - acc: 0.9669 - val_loss: 0.3092 - val_acc: 0.9698\n",
      "Epoch 17/100\n",
      "41/41 [==============================] - 0s 2ms/step - loss: 0.2763 - acc: 0.9691 - val_loss: 0.2855 - val_acc: 0.9725\n",
      "Epoch 18/100\n",
      "41/41 [==============================] - 0s 2ms/step - loss: 0.2539 - acc: 0.9710 - val_loss: 0.2636 - val_acc: 0.9721\n",
      "Epoch 19/100\n",
      "41/41 [==============================] - 0s 2ms/step - loss: 0.2343 - acc: 0.9728 - val_loss: 0.2457 - val_acc: 0.9733\n",
      "Epoch 20/100\n",
      "41/41 [==============================] - 0s 2ms/step - loss: 0.2169 - acc: 0.9746 - val_loss: 0.2293 - val_acc: 0.9725\n",
      "Epoch 21/100\n",
      "41/41 [==============================] - 0s 2ms/step - loss: 0.2023 - acc: 0.9754 - val_loss: 0.2139 - val_acc: 0.9752\n",
      "Epoch 22/100\n",
      "41/41 [==============================] - 0s 2ms/step - loss: 0.1883 - acc: 0.9764 - val_loss: 0.2014 - val_acc: 0.9772\n",
      "Epoch 23/100\n",
      "41/41 [==============================] - 0s 2ms/step - loss: 0.1766 - acc: 0.9770 - val_loss: 0.1901 - val_acc: 0.9764\n",
      "Epoch 24/100\n",
      "41/41 [==============================] - 0s 2ms/step - loss: 0.1655 - acc: 0.9783 - val_loss: 0.1789 - val_acc: 0.9776\n",
      "Epoch 25/100\n",
      "41/41 [==============================] - 0s 2ms/step - loss: 0.1558 - acc: 0.9791 - val_loss: 0.1701 - val_acc: 0.9776\n",
      "Epoch 26/100\n",
      "41/41 [==============================] - 0s 2ms/step - loss: 0.1469 - acc: 0.9796 - val_loss: 0.1623 - val_acc: 0.9783\n",
      "Epoch 27/100\n",
      "41/41 [==============================] - 0s 2ms/step - loss: 0.1394 - acc: 0.9806 - val_loss: 0.1551 - val_acc: 0.9803\n",
      "Epoch 28/100\n",
      "41/41 [==============================] - 0s 2ms/step - loss: 0.1323 - acc: 0.9808 - val_loss: 0.1471 - val_acc: 0.9795\n",
      "Epoch 29/100\n",
      "41/41 [==============================] - 0s 2ms/step - loss: 0.1259 - acc: 0.9827 - val_loss: 0.1408 - val_acc: 0.9803\n",
      "Epoch 30/100\n",
      "41/41 [==============================] - 0s 3ms/step - loss: 0.1197 - acc: 0.9829 - val_loss: 0.1359 - val_acc: 0.9810\n",
      "Epoch 31/100\n",
      "41/41 [==============================] - 0s 2ms/step - loss: 0.1144 - acc: 0.9832 - val_loss: 0.1308 - val_acc: 0.9834\n",
      "Epoch 32/100\n",
      "41/41 [==============================] - 0s 2ms/step - loss: 0.1094 - acc: 0.9841 - val_loss: 0.1266 - val_acc: 0.9834\n",
      "Epoch 33/100\n",
      "41/41 [==============================] - 0s 2ms/step - loss: 0.1049 - acc: 0.9843 - val_loss: 0.1211 - val_acc: 0.9838\n",
      "Epoch 34/100\n",
      "41/41 [==============================] - 0s 2ms/step - loss: 0.1007 - acc: 0.9848 - val_loss: 0.1169 - val_acc: 0.9841\n",
      "Epoch 35/100\n",
      "41/41 [==============================] - 0s 2ms/step - loss: 0.0968 - acc: 0.9854 - val_loss: 0.1134 - val_acc: 0.9841\n",
      "Epoch 36/100\n",
      "41/41 [==============================] - 0s 2ms/step - loss: 0.0932 - acc: 0.9856 - val_loss: 0.1098 - val_acc: 0.9838\n",
      "Epoch 37/100\n",
      "41/41 [==============================] - 0s 2ms/step - loss: 0.0898 - acc: 0.9858 - val_loss: 0.1069 - val_acc: 0.9841\n",
      "Epoch 38/100\n",
      "41/41 [==============================] - 0s 2ms/step - loss: 0.0864 - acc: 0.9864 - val_loss: 0.1034 - val_acc: 0.9849\n",
      "Epoch 39/100\n",
      "41/41 [==============================] - 0s 2ms/step - loss: 0.0836 - acc: 0.9869 - val_loss: 0.1017 - val_acc: 0.9849\n",
      "Epoch 40/100\n",
      "41/41 [==============================] - 0s 2ms/step - loss: 0.0806 - acc: 0.9867 - val_loss: 0.0982 - val_acc: 0.9849\n",
      "Epoch 41/100\n",
      "41/41 [==============================] - 0s 2ms/step - loss: 0.0779 - acc: 0.9874 - val_loss: 0.0959 - val_acc: 0.9849\n",
      "Epoch 42/100\n",
      "41/41 [==============================] - 0s 2ms/step - loss: 0.0754 - acc: 0.9875 - val_loss: 0.0935 - val_acc: 0.9849\n",
      "Epoch 43/100\n",
      "41/41 [==============================] - 0s 2ms/step - loss: 0.0729 - acc: 0.9875 - val_loss: 0.0918 - val_acc: 0.9849\n",
      "Epoch 44/100\n",
      "41/41 [==============================] - 0s 2ms/step - loss: 0.0710 - acc: 0.9880 - val_loss: 0.0897 - val_acc: 0.9849\n",
      "Epoch 45/100\n",
      "41/41 [==============================] - 0s 2ms/step - loss: 0.0686 - acc: 0.9880 - val_loss: 0.0880 - val_acc: 0.9861\n",
      "Epoch 46/100\n",
      "41/41 [==============================] - 0s 2ms/step - loss: 0.0666 - acc: 0.9886 - val_loss: 0.0855 - val_acc: 0.9857\n",
      "Epoch 47/100\n",
      "41/41 [==============================] - 0s 2ms/step - loss: 0.0646 - acc: 0.9889 - val_loss: 0.0837 - val_acc: 0.9861\n",
      "Epoch 48/100\n",
      "41/41 [==============================] - 0s 2ms/step - loss: 0.0631 - acc: 0.9889 - val_loss: 0.0821 - val_acc: 0.9861\n",
      "Epoch 49/100\n",
      "41/41 [==============================] - 0s 2ms/step - loss: 0.0610 - acc: 0.9891 - val_loss: 0.0814 - val_acc: 0.9861\n",
      "Epoch 50/100\n",
      "41/41 [==============================] - 0s 2ms/step - loss: 0.0596 - acc: 0.9889 - val_loss: 0.0788 - val_acc: 0.9861\n",
      "Epoch 51/100\n",
      "41/41 [==============================] - 0s 2ms/step - loss: 0.0581 - acc: 0.9895 - val_loss: 0.0785 - val_acc: 0.9865\n",
      "Epoch 52/100\n",
      "41/41 [==============================] - 0s 2ms/step - loss: 0.0561 - acc: 0.9896 - val_loss: 0.0765 - val_acc: 0.9865\n",
      "Epoch 53/100\n",
      "41/41 [==============================] - 0s 2ms/step - loss: 0.0545 - acc: 0.9899 - val_loss: 0.0749 - val_acc: 0.9868\n",
      "Epoch 54/100\n",
      "41/41 [==============================] - 0s 2ms/step - loss: 0.0532 - acc: 0.9898 - val_loss: 0.0746 - val_acc: 0.9868\n",
      "Epoch 55/100\n",
      "41/41 [==============================] - 0s 2ms/step - loss: 0.0520 - acc: 0.9899 - val_loss: 0.0733 - val_acc: 0.9868\n",
      "Epoch 56/100\n",
      "41/41 [==============================] - 0s 2ms/step - loss: 0.0506 - acc: 0.9902 - val_loss: 0.0723 - val_acc: 0.9868\n",
      "Epoch 57/100\n",
      "41/41 [==============================] - 0s 2ms/step - loss: 0.0495 - acc: 0.9900 - val_loss: 0.0710 - val_acc: 0.9868\n",
      "Epoch 58/100\n",
      "41/41 [==============================] - 0s 2ms/step - loss: 0.0480 - acc: 0.9909 - val_loss: 0.0702 - val_acc: 0.9876\n",
      "Epoch 59/100\n",
      "41/41 [==============================] - 0s 2ms/step - loss: 0.0468 - acc: 0.9910 - val_loss: 0.0689 - val_acc: 0.9872\n",
      "Epoch 60/100\n",
      "41/41 [==============================] - 0s 2ms/step - loss: 0.0458 - acc: 0.9907 - val_loss: 0.0675 - val_acc: 0.9872\n",
      "Epoch 61/100\n",
      "41/41 [==============================] - 0s 2ms/step - loss: 0.0444 - acc: 0.9917 - val_loss: 0.0669 - val_acc: 0.9876\n",
      "Epoch 62/100\n",
      "41/41 [==============================] - 0s 2ms/step - loss: 0.0434 - acc: 0.9920 - val_loss: 0.0656 - val_acc: 0.9876\n",
      "Epoch 63/100\n",
      "41/41 [==============================] - 0s 2ms/step - loss: 0.0423 - acc: 0.9914 - val_loss: 0.0648 - val_acc: 0.9876\n",
      "Epoch 64/100\n",
      "41/41 [==============================] - 0s 2ms/step - loss: 0.0416 - acc: 0.9919 - val_loss: 0.0646 - val_acc: 0.9876\n",
      "Epoch 65/100\n",
      "41/41 [==============================] - 0s 2ms/step - loss: 0.0404 - acc: 0.9921 - val_loss: 0.0634 - val_acc: 0.9876\n",
      "Epoch 66/100\n",
      "41/41 [==============================] - 0s 2ms/step - loss: 0.0394 - acc: 0.9926 - val_loss: 0.0624 - val_acc: 0.9876\n",
      "Epoch 67/100\n",
      "41/41 [==============================] - 0s 2ms/step - loss: 0.0386 - acc: 0.9923 - val_loss: 0.0623 - val_acc: 0.9880\n",
      "Epoch 68/100\n",
      "41/41 [==============================] - 0s 2ms/step - loss: 0.0377 - acc: 0.9930 - val_loss: 0.0620 - val_acc: 0.9876\n",
      "Epoch 69/100\n",
      "41/41 [==============================] - 0s 2ms/step - loss: 0.0369 - acc: 0.9927 - val_loss: 0.0605 - val_acc: 0.9876\n",
      "Epoch 70/100\n",
      "41/41 [==============================] - 0s 2ms/step - loss: 0.0360 - acc: 0.9934 - val_loss: 0.0599 - val_acc: 0.9880\n",
      "Epoch 71/100\n",
      "41/41 [==============================] - 0s 2ms/step - loss: 0.0353 - acc: 0.9932 - val_loss: 0.0597 - val_acc: 0.9884\n",
      "Epoch 72/100\n",
      "41/41 [==============================] - 0s 2ms/step - loss: 0.0347 - acc: 0.9937 - val_loss: 0.0583 - val_acc: 0.9880\n",
      "Epoch 73/100\n",
      "41/41 [==============================] - 0s 2ms/step - loss: 0.0338 - acc: 0.9939 - val_loss: 0.0583 - val_acc: 0.9888\n",
      "Epoch 74/100\n",
      "41/41 [==============================] - 0s 2ms/step - loss: 0.0332 - acc: 0.9942 - val_loss: 0.0573 - val_acc: 0.9884\n",
      "Epoch 75/100\n",
      "41/41 [==============================] - 0s 2ms/step - loss: 0.0325 - acc: 0.9943 - val_loss: 0.0566 - val_acc: 0.9884\n",
      "Epoch 76/100\n",
      "41/41 [==============================] - 0s 2ms/step - loss: 0.0317 - acc: 0.9942 - val_loss: 0.0562 - val_acc: 0.9888\n",
      "Epoch 77/100\n",
      "41/41 [==============================] - 0s 2ms/step - loss: 0.0311 - acc: 0.9942 - val_loss: 0.0554 - val_acc: 0.9896\n",
      "Epoch 78/100\n",
      "41/41 [==============================] - 0s 2ms/step - loss: 0.0306 - acc: 0.9946 - val_loss: 0.0548 - val_acc: 0.9888\n",
      "Epoch 79/100\n",
      "41/41 [==============================] - 0s 2ms/step - loss: 0.0300 - acc: 0.9948 - val_loss: 0.0547 - val_acc: 0.9896\n",
      "Epoch 80/100\n",
      "41/41 [==============================] - 0s 2ms/step - loss: 0.0294 - acc: 0.9948 - val_loss: 0.0548 - val_acc: 0.9896\n",
      "Epoch 81/100\n",
      "41/41 [==============================] - 0s 2ms/step - loss: 0.0289 - acc: 0.9949 - val_loss: 0.0534 - val_acc: 0.9903\n",
      "Epoch 82/100\n",
      "41/41 [==============================] - 0s 2ms/step - loss: 0.0282 - acc: 0.9952 - val_loss: 0.0527 - val_acc: 0.9896\n",
      "Epoch 83/100\n",
      "41/41 [==============================] - 0s 2ms/step - loss: 0.0276 - acc: 0.9952 - val_loss: 0.0523 - val_acc: 0.9888\n",
      "Epoch 84/100\n",
      "41/41 [==============================] - 0s 2ms/step - loss: 0.0276 - acc: 0.9952 - val_loss: 0.0522 - val_acc: 0.9899\n",
      "Epoch 85/100\n",
      "41/41 [==============================] - 0s 2ms/step - loss: 0.0268 - acc: 0.9956 - val_loss: 0.0515 - val_acc: 0.9903\n",
      "Epoch 86/100\n",
      "41/41 [==============================] - 0s 2ms/step - loss: 0.0262 - acc: 0.9956 - val_loss: 0.0511 - val_acc: 0.9907\n",
      "Epoch 87/100\n",
      "41/41 [==============================] - 0s 2ms/step - loss: 0.0257 - acc: 0.9955 - val_loss: 0.0508 - val_acc: 0.9903\n",
      "Epoch 88/100\n",
      "41/41 [==============================] - 0s 2ms/step - loss: 0.0253 - acc: 0.9956 - val_loss: 0.0504 - val_acc: 0.9907\n",
      "Epoch 89/100\n",
      "41/41 [==============================] - 0s 2ms/step - loss: 0.0248 - acc: 0.9958 - val_loss: 0.0496 - val_acc: 0.9903\n",
      "Epoch 90/100\n",
      "41/41 [==============================] - 0s 2ms/step - loss: 0.0245 - acc: 0.9955 - val_loss: 0.0495 - val_acc: 0.9903\n",
      "Epoch 91/100\n",
      "41/41 [==============================] - 0s 2ms/step - loss: 0.0241 - acc: 0.9954 - val_loss: 0.0491 - val_acc: 0.9911\n",
      "Epoch 92/100\n",
      "41/41 [==============================] - 0s 2ms/step - loss: 0.0236 - acc: 0.9961 - val_loss: 0.0487 - val_acc: 0.9911\n",
      "Epoch 93/100\n",
      "41/41 [==============================] - 0s 2ms/step - loss: 0.0231 - acc: 0.9961 - val_loss: 0.0484 - val_acc: 0.9911\n",
      "Epoch 94/100\n",
      "41/41 [==============================] - 0s 2ms/step - loss: 0.0227 - acc: 0.9962 - val_loss: 0.0481 - val_acc: 0.9911\n",
      "Epoch 95/100\n",
      "41/41 [==============================] - 0s 2ms/step - loss: 0.0223 - acc: 0.9964 - val_loss: 0.0480 - val_acc: 0.9911\n",
      "Epoch 96/100\n",
      "41/41 [==============================] - 0s 2ms/step - loss: 0.0220 - acc: 0.9964 - val_loss: 0.0475 - val_acc: 0.9911\n",
      "Epoch 97/100\n",
      "41/41 [==============================] - 0s 2ms/step - loss: 0.0217 - acc: 0.9962 - val_loss: 0.0468 - val_acc: 0.9911\n",
      "Epoch 98/100\n",
      "41/41 [==============================] - 0s 2ms/step - loss: 0.0214 - acc: 0.9964 - val_loss: 0.0470 - val_acc: 0.9911\n",
      "Epoch 99/100\n",
      "41/41 [==============================] - 0s 2ms/step - loss: 0.0209 - acc: 0.9962 - val_loss: 0.0463 - val_acc: 0.9911\n",
      "Epoch 100/100\n",
      "41/41 [==============================] - 0s 2ms/step - loss: 0.0207 - acc: 0.9968 - val_loss: 0.0460 - val_acc: 0.9919\n"
     ]
    }
   ],
   "source": [
    "history = model.fit(x=x_train,y=y_train,epochs=num_epoch,batch_size=batch_size,validation_data=(x_test,y_test), verbose=verbose)"
   ]
  },
  {
   "cell_type": "markdown",
   "id": "federal-organ",
   "metadata": {},
   "source": [
    "# Save model"
   ]
  },
  {
   "cell_type": "code",
   "execution_count": 70,
   "id": "skilled-queen",
   "metadata": {},
   "outputs": [],
   "source": [
    "model.save('best.h5')"
   ]
  },
  {
   "cell_type": "markdown",
   "id": "prostate-terry",
   "metadata": {},
   "source": [
    "# Test prediction"
   ]
  },
  {
   "cell_type": "code",
   "execution_count": 24,
   "id": "external-destruction",
   "metadata": {},
   "outputs": [
    {
     "name": "stdout",
     "output_type": "stream",
     "text": [
      "WARNING:tensorflow:From <ipython-input-24-2770307e385a>:1: Sequential.predict_classes (from tensorflow.python.keras.engine.sequential) is deprecated and will be removed after 2021-01-01.\n",
      "Instructions for updating:\n",
      "Please use instead:* `np.argmax(model.predict(x), axis=-1)`,   if your model does multi-class classification   (e.g. if it uses a `softmax` last-layer activation).* `(model.predict(x) > 0.5).astype(\"int32\")`,   if your model does binary classification   (e.g. if it uses a `sigmoid` last-layer activation).\n"
     ]
    },
    {
     "data": {
      "text/plain": [
       "array([11], dtype=int64)"
      ]
     },
     "execution_count": 24,
     "metadata": {},
     "output_type": "execute_result"
    }
   ],
   "source": [
    "prediction = model.predict_classes(np.array(x_train[:1]).astype(np.float32))\n",
    "prediction"
   ]
  },
  {
   "cell_type": "code",
   "execution_count": 25,
   "id": "failing-princeton",
   "metadata": {},
   "outputs": [
    {
     "data": {
      "text/plain": [
       "11"
      ]
     },
     "execution_count": 25,
     "metadata": {},
     "output_type": "execute_result"
    }
   ],
   "source": [
    "prediction = np.argmax(tf.keras.utils.to_categorical(prediction), axis = 1)[0]\n",
    "prediction"
   ]
  },
  {
   "cell_type": "code",
   "execution_count": 26,
   "id": "recent-commodity",
   "metadata": {},
   "outputs": [
    {
     "data": {
      "text/plain": [
       "(array([ 6.0565501e-02,  1.6469809e-01, -2.7848274e-02,  1.1718124e-01,\n",
       "        -8.1218094e-02,  2.3503363e-02, -9.2865318e-02, -8.3658844e-02,\n",
       "        -9.3911082e-02, -1.6469809e-01, -5.0614029e-02, -6.1340868e-02,\n",
       "        -5.3317934e-02, -1.4779785e-01, -3.8688332e-02, -6.1840087e-02,\n",
       "        -3.8520008e-02, -3.9240003e-02, -3.1355917e-03, -6.7572534e-02,\n",
       "        -2.7942359e-03, -1.4334139e-01,  6.9002211e-03, -3.6277145e-02,\n",
       "        -8.7946653e-05, -4.0533423e-02,  4.4508725e-02, -6.6564098e-02,\n",
       "         4.4652075e-02, -1.4053971e-01,  4.5145184e-02, -4.0652275e-02,\n",
       "         4.1062385e-02, -3.7139118e-02,  9.3911082e-02, -6.3033313e-02,\n",
       "         8.8246435e-02, -1.2895179e-01,  8.1502885e-02, -5.9864491e-02,\n",
       "         7.9411894e-02, -4.4073403e-02], dtype=float32),\n",
       " array([0., 0., 0., 0., 0., 0., 0., 0., 0., 0., 0., 1., 0., 0., 0., 0., 0.],\n",
       "       dtype=float32))"
      ]
     },
     "execution_count": 26,
     "metadata": {},
     "output_type": "execute_result"
    }
   ],
   "source": [
    "x_train[0], y_train[0]"
   ]
  },
  {
   "cell_type": "code",
   "execution_count": 27,
   "id": "general-aside",
   "metadata": {},
   "outputs": [
    {
     "name": "stdout",
     "output_type": "stream",
     "text": [
      "['a']\n"
     ]
    }
   ],
   "source": [
    "print(decode_label([prediction]))"
   ]
  }
 ],
 "metadata": {
  "kernelspec": {
   "display_name": "Python 3",
   "language": "python",
   "name": "python3"
  },
  "language_info": {
   "codemirror_mode": {
    "name": "ipython",
    "version": 3
   },
   "file_extension": ".py",
   "mimetype": "text/x-python",
   "name": "python",
   "nbconvert_exporter": "python",
   "pygments_lexer": "ipython3",
   "version": "3.8.8"
  }
 },
 "nbformat": 4,
 "nbformat_minor": 5
}
